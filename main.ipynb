{
 "cells": [
  {
   "cell_type": "code",
   "execution_count": null,
   "id": "f1b074b6",
   "metadata": {},
   "outputs": [],
   "source": [
    "import json\n",
    "import math\n",
    "from datetime import datetime\n",
    "\n",
    "import spotipy\n",
    "from spotipy.oauth2 import SpotifyOAuth"
   ]
  },
  {
   "cell_type": "markdown",
   "id": "a54737bc",
   "metadata": {},
   "source": [
    "`tweets.js` from twitter archive"
   ]
  },
  {
   "cell_type": "code",
   "execution_count": null,
   "id": "9c625e40",
   "metadata": {},
   "outputs": [],
   "source": [
    "data = []\n",
    "with open(\"tweets.js\") as f:\n",
    "    data = json.load(f)"
   ]
  },
  {
   "cell_type": "code",
   "execution_count": null,
   "id": "44be30c8",
   "metadata": {},
   "outputs": [],
   "source": [
    "def flatten_list(_2d_list):\n",
    "    flat_list = []\n",
    "    for element in _2d_list:\n",
    "        if type(element) is list:\n",
    "            for item in element:\n",
    "                flat_list.append(item)\n",
    "        else:\n",
    "            flat_list.append(element)\n",
    "    return flat_list"
   ]
  },
  {
   "cell_type": "code",
   "execution_count": null,
   "id": "00c1956f",
   "metadata": {},
   "outputs": [],
   "source": [
    "data.sort(key=lambda x : datetime.strftime(datetime.strptime(x[\"tweet\"][\"created_at\"],'%a %b %d %H:%M:%S +0000 %Y'), '%Y-%m-%d %H:%M:%S'))"
   ]
  },
  {
   "cell_type": "code",
   "execution_count": null,
   "id": "4d8401cc",
   "metadata": {},
   "outputs": [],
   "source": [
    "a = list(map(lambda x : x.split(\"/\")[-1].split(\"?\")[0], filter(lambda x : x.startswith(\"https://open.spotify.com/track/\"),\n",
    "           map(lambda x : x['expanded_url'], \n",
    "             flatten_list(\n",
    "                list(\n",
    "                    filter(lambda x : len(x) != 0, \n",
    "                        map(lambda x : x['tweet']['entities']['urls'], data))))))))"
   ]
  },
  {
   "cell_type": "markdown",
   "id": "e6a38c1a",
   "metadata": {},
   "source": [
    "https://developer.spotify.com/dashboard/applications\nAdd application with `https://127.0.0.1` as Redirect URI"
   ]
  },
  {
   "cell_type": "code",
   "execution_count": null,
   "id": "c4d582d1",
   "metadata": {},
   "outputs": [],
   "source": [
    "client_id = \"XXX\"\n",
    "client_secret = \"XXX\""
   ]
  },
  {
   "cell_type": "code",
   "execution_count": null,
   "id": "24eacf91",
   "metadata": {},
   "outputs": [],
   "source": [
    "scope = \"playlist-modify-public\"\n",
    "sp = spotipy.Spotify(auth_manager=SpotifyOAuth(client_id=client_id, client_secret=client_secret, redirect_uri='https://127.0.0.1/', scope=scope))"
   ]
  },
  {
   "cell_type": "code",
   "execution_count": null,
   "id": "86c96b7a",
   "metadata": {},
   "outputs": [],
   "source": [
    "playlist_id = sp.user_playlist_create(\"wtwdpyv6wvr0h3d54ajhbklg4\", \"TWITTER 🐦\")['id']\n",
    "for i in range(1, math.ceil(len(a)/100) + 1):\n",
    "    sp.playlist_add_items(playlist_id, a[100*(i-1) : min(100*i, len(a))])"
   ]
  }
 ],
 "metadata": {
  "kernelspec": {
   "display_name": "Python 3 (ipykernel)",
   "language": "python",
   "name": "python3"
  },
  "language_info": {
   "codemirror_mode": {
    "name": "ipython",
    "version": 3
   },
   "file_extension": ".py",
   "mimetype": "text/x-python",
   "name": "python",
   "nbconvert_exporter": "python",
   "pygments_lexer": "ipython3",
   "version": "3.10.8"
  }
 },
 "nbformat": 4,
 "nbformat_minor": 5
}
